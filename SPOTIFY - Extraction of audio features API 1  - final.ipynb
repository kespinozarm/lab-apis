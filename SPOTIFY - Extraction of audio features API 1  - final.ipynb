{
 "cells": [
  {
   "cell_type": "code",
   "execution_count": 1,
   "id": "74ae249f-be93-49e6-bafc-6c64706665ac",
   "metadata": {},
   "outputs": [
    {
     "name": "stdout",
     "output_type": "stream",
     "text": [
      "Requirement already satisfied: spotipy in /opt/anaconda3/lib/python3.11/site-packages (2.24.0)\n",
      "Requirement already satisfied: redis>=3.5.3 in /opt/anaconda3/lib/python3.11/site-packages (from spotipy) (5.1.1)\n",
      "Requirement already satisfied: requests>=2.25.0 in /opt/anaconda3/lib/python3.11/site-packages (from spotipy) (2.31.0)\n",
      "Requirement already satisfied: urllib3>=1.26.0 in /opt/anaconda3/lib/python3.11/site-packages (from spotipy) (2.0.7)\n",
      "Requirement already satisfied: charset-normalizer<4,>=2 in /opt/anaconda3/lib/python3.11/site-packages (from requests>=2.25.0->spotipy) (2.0.4)\n",
      "Requirement already satisfied: idna<4,>=2.5 in /opt/anaconda3/lib/python3.11/site-packages (from requests>=2.25.0->spotipy) (3.4)\n",
      "Requirement already satisfied: certifi>=2017.4.17 in /opt/anaconda3/lib/python3.11/site-packages (from requests>=2.25.0->spotipy) (2024.8.30)\n"
     ]
    }
   ],
   "source": [
    "!pip install spotipy"
   ]
  },
  {
   "cell_type": "code",
   "execution_count": 2,
   "id": "880523a2-9acb-4208-93d1-b54f8baba738",
   "metadata": {},
   "outputs": [
    {
     "name": "stdout",
     "output_type": "stream",
     "text": [
      "Requirement already satisfied: python-dotenv in /opt/anaconda3/lib/python3.11/site-packages (0.21.0)\n",
      "Note: you may need to restart the kernel to use updated packages.\n"
     ]
    }
   ],
   "source": [
    "pip install python-dotenv"
   ]
  },
  {
   "cell_type": "code",
   "execution_count": 110,
   "id": "837cdc6d-6fdf-4e4b-a2c8-e239639e7989",
   "metadata": {},
   "outputs": [],
   "source": [
    "import os\n",
    "from dotenv import load_dotenv"
   ]
  },
  {
   "cell_type": "code",
   "execution_count": 112,
   "id": "39131116-cc2f-4a59-ae1e-adb1117338e8",
   "metadata": {},
   "outputs": [
    {
     "data": {
      "text/plain": [
       "True"
      ]
     },
     "execution_count": 112,
     "metadata": {},
     "output_type": "execute_result"
    }
   ],
   "source": [
    "load_dotenv(\"test.env\")"
   ]
  },
  {
   "cell_type": "code",
   "execution_count": 94,
   "id": "3804d59d-81e6-4e7e-befb-fd38d47a3358",
   "metadata": {},
   "outputs": [],
   "source": [
    "import spotipy\n",
    "from spotipy.oauth2 import SpotifyClientCredentials\n",
    "import pandas as pd"
   ]
  },
  {
   "cell_type": "code",
   "execution_count": 96,
   "id": "8b075c7e-2e76-4cb1-8e8e-db8441648134",
   "metadata": {},
   "outputs": [],
   "source": [
    "import base64\n",
    "from requests import post,get\n",
    "import json\n"
   ]
  },
  {
   "cell_type": "code",
   "execution_count": 114,
   "id": "ab46374c-4db7-47e5-afbc-e79fd1c9aa48",
   "metadata": {},
   "outputs": [],
   "source": [
    "\n",
    "# Obtener el client_id y client_secret\n",
    "CLIENT_ID = os.getenv('CLIENT_ID')\n",
    "CLIENT_SECRET = os.getenv('CLIENT_SECRET')\n"
   ]
  },
  {
   "cell_type": "code",
   "execution_count": 116,
   "id": "05541fff-5337-4665-a69a-13e992bbb955",
   "metadata": {},
   "outputs": [],
   "source": [
    "sp = spotipy.Spotify(auth_manager=SpotifyClientCredentials(client_id=CLIENT_ID,client_secret=CLIENT_SECRET))"
   ]
  },
  {
   "cell_type": "code",
   "execution_count": 9,
   "id": "92fee286-a82d-4041-9c5e-2c86a853be75",
   "metadata": {},
   "outputs": [
    {
     "name": "stdout",
     "output_type": "stream",
     "text": [
      "200 canciones icónicas de la Historia\n",
      "\n"
     ]
    }
   ],
   "source": [
    "playlist_id = \"47cZFdxdjGS41YdSqqQlw3\"\n",
    "playlist = sp.playlist(playlist_id)\n",
    "print(playlist['name'])  # Print the playlist's name\n",
    "print(playlist['description'])  # Print the playlist's description"
   ]
  },
  {
   "cell_type": "code",
   "execution_count": 11,
   "id": "7af31100-5570-44c9-bf43-aa0af57cd7c9",
   "metadata": {},
   "outputs": [],
   "source": [
    "tracks = playlist['tracks']['items']"
   ]
  },
  {
   "cell_type": "code",
   "execution_count": 118,
   "id": "db170015-2731-408f-a3d3-2d2f5b604072",
   "metadata": {
    "scrolled": true
   },
   "outputs": [],
   "source": [
    "#list[tracks]"
   ]
  },
  {
   "cell_type": "code",
   "execution_count": 15,
   "id": "a9e061d5-1459-4c81-886d-e88050b306ae",
   "metadata": {},
   "outputs": [
    {
     "data": {
      "text/html": [
       "<div>\n",
       "<style scoped>\n",
       "    .dataframe tbody tr th:only-of-type {\n",
       "        vertical-align: middle;\n",
       "    }\n",
       "\n",
       "    .dataframe tbody tr th {\n",
       "        vertical-align: top;\n",
       "    }\n",
       "\n",
       "    .dataframe thead th {\n",
       "        text-align: right;\n",
       "    }\n",
       "</style>\n",
       "<table border=\"1\" class=\"dataframe\">\n",
       "  <thead>\n",
       "    <tr style=\"text-align: right;\">\n",
       "      <th></th>\n",
       "      <th>track_name</th>\n",
       "      <th>artist_name</th>\n",
       "      <th>track_id</th>\n",
       "      <th>popularity</th>\n",
       "      <th>duration_ms</th>\n",
       "      <th>artist_genres</th>\n",
       "    </tr>\n",
       "  </thead>\n",
       "  <tbody>\n",
       "    <tr>\n",
       "      <th>0</th>\n",
       "      <td>Imagine - Remastered 2010</td>\n",
       "      <td>John Lennon</td>\n",
       "      <td>7pKfPomDEeI4TPT6EOYjn9</td>\n",
       "      <td>76</td>\n",
       "      <td>187866</td>\n",
       "      <td>classic rock, rock</td>\n",
       "    </tr>\n",
       "    <tr>\n",
       "      <th>1</th>\n",
       "      <td>Bohemian Rhapsody</td>\n",
       "      <td>Queen</td>\n",
       "      <td>3z8h0TU7ReDPLIbEnYhWZb</td>\n",
       "      <td>71</td>\n",
       "      <td>354947</td>\n",
       "      <td>classic rock, glam rock, rock</td>\n",
       "    </tr>\n",
       "    <tr>\n",
       "      <th>2</th>\n",
       "      <td>Hey Jude - Remastered 2009</td>\n",
       "      <td>The Beatles</td>\n",
       "      <td>3m7V717IKZqZLW5qUIOxdD</td>\n",
       "      <td>58</td>\n",
       "      <td>431333</td>\n",
       "      <td>british invasion, classic rock, merseybeat, ps...</td>\n",
       "    </tr>\n",
       "    <tr>\n",
       "      <th>3</th>\n",
       "      <td>Billie Jean</td>\n",
       "      <td>Michael Jackson</td>\n",
       "      <td>5ChkMS8OtdzJeqyybCc9R5</td>\n",
       "      <td>77</td>\n",
       "      <td>293826</td>\n",
       "      <td>r&amp;b, soul</td>\n",
       "    </tr>\n",
       "    <tr>\n",
       "      <th>4</th>\n",
       "      <td>(I Can't Get No) Satisfaction - Mono Version</td>\n",
       "      <td>The Rolling Stones</td>\n",
       "      <td>2PzU4IB8Dr6mxV3lHuaG34</td>\n",
       "      <td>76</td>\n",
       "      <td>222813</td>\n",
       "      <td>album rock, british invasion, classic rock, rock</td>\n",
       "    </tr>\n",
       "  </tbody>\n",
       "</table>\n",
       "</div>"
      ],
      "text/plain": [
       "                                     track_name         artist_name  \\\n",
       "0                     Imagine - Remastered 2010         John Lennon   \n",
       "1                             Bohemian Rhapsody               Queen   \n",
       "2                    Hey Jude - Remastered 2009         The Beatles   \n",
       "3                                   Billie Jean     Michael Jackson   \n",
       "4  (I Can't Get No) Satisfaction - Mono Version  The Rolling Stones   \n",
       "\n",
       "                 track_id  popularity  duration_ms  \\\n",
       "0  7pKfPomDEeI4TPT6EOYjn9          76       187866   \n",
       "1  3z8h0TU7ReDPLIbEnYhWZb          71       354947   \n",
       "2  3m7V717IKZqZLW5qUIOxdD          58       431333   \n",
       "3  5ChkMS8OtdzJeqyybCc9R5          77       293826   \n",
       "4  2PzU4IB8Dr6mxV3lHuaG34          76       222813   \n",
       "\n",
       "                                       artist_genres  \n",
       "0                                 classic rock, rock  \n",
       "1                      classic rock, glam rock, rock  \n",
       "2  british invasion, classic rock, merseybeat, ps...  \n",
       "3                                          r&b, soul  \n",
       "4   album rock, british invasion, classic rock, rock  "
      ]
     },
     "execution_count": 15,
     "metadata": {},
     "output_type": "execute_result"
    }
   ],
   "source": [
    "track_data = [] \n",
    "\n",
    "# Loop through the list items and extract the data we want\n",
    "for track in tracks:\n",
    "    track_name = track['track']['name']\n",
    "    artist_name = track['track']['artists'][0]['name']\n",
    "    track_id = track['track']['id']\n",
    "    popularity = track['track']['popularity']\n",
    "    duration_ms = track['track']['duration_ms']\n",
    "\n",
    "    # Get the artist ID to fetch the artist genres\n",
    "    artist_id = track['track']['artists'][0]['id']\n",
    "\n",
    "    # Get the artist genres using the artist ID and the sp.artist method (Spotipy's artist endpoint)\n",
    "    artist_info = sp.artist(artist_id) # <- Fetch the artist info\n",
    "    artist_genres = artist_info['genres'] # <- Extract the genres from the artist info\n",
    "    artist_genres_str = ', '.join(artist_genres) # <- This is to convert the list of genres to a string\n",
    "\n",
    "    \n",
    "    # Append the data to the list as a dictionary, if I append as dictionary, I don't have to specify the columns when creating the DataFrame\n",
    "    track_data.append({ # <- Dictionary \"{}\", not list \"[]\"\n",
    "        'track_name': track_name, \n",
    "        'artist_name': artist_name, \n",
    "        'track_id': track_id,\n",
    "        'popularity': popularity, \n",
    "        'duration_ms': duration_ms, \n",
    "        'artist_genres': artist_genres_str\n",
    "    })\n",
    "\n",
    "# Create a pandas DataFrame from the list of dictionaries. Since I appended dictionary, I don't have to specify the columns\n",
    "df2 = pd.DataFrame(track_data)\n",
    "df2.head()"
   ]
  },
  {
   "cell_type": "code",
   "execution_count": 17,
   "id": "d921cc39-aea0-428e-bff5-d90b3131fb7c",
   "metadata": {},
   "outputs": [],
   "source": [
    "df2.to_csv(\"spotify2dfsinfeatures.csv\")"
   ]
  },
  {
   "cell_type": "code",
   "execution_count": 31,
   "id": "b3a2b58f-c9f3-4b45-a072-a9fd9f604d30",
   "metadata": {},
   "outputs": [
    {
     "data": {
      "text/plain": [
       "'102YUQbYmwdBXS7jwamI90'"
      ]
     },
     "execution_count": 31,
     "metadata": {},
     "output_type": "execute_result"
    }
   ],
   "source": [
    "track_id"
   ]
  },
  {
   "cell_type": "code",
   "execution_count": 19,
   "id": "badc27c8-61db-4ffd-87d9-744c50b6e15d",
   "metadata": {},
   "outputs": [],
   "source": [
    "import time"
   ]
  },
  {
   "cell_type": "code",
   "execution_count": 21,
   "id": "043789ac-226c-4cb2-a4ac-51f3cb7202bb",
   "metadata": {},
   "outputs": [],
   "source": [
    "#function for every class:\n",
    "features = []\n",
    "\n",
    "for index, row in df2.iterrows():\n",
    "    audio_features = sp.audio_features(row[\"track_id\"])[0] #need to change [0]?? El [0] en sp.audio_features(...)[0] es necesario porque el método sp.audio_features de la librería Spotipy devuelve una lista de diccionarios, incluso si solo se solicita una única canción.\n",
    "    time.sleep(3)\n",
    "    features.append(audio_features)"
   ]
  },
  {
   "cell_type": "code",
   "execution_count": 23,
   "id": "2b862a1b-eba4-43e8-9e58-6806218af5e5",
   "metadata": {},
   "outputs": [],
   "source": [
    "df_testfeat = pd.DataFrame(features)"
   ]
  },
  {
   "cell_type": "code",
   "execution_count": 25,
   "id": "24330b48-d83b-4a86-a14c-5f95b1a95767",
   "metadata": {},
   "outputs": [
    {
     "data": {
      "text/html": [
       "<div>\n",
       "<style scoped>\n",
       "    .dataframe tbody tr th:only-of-type {\n",
       "        vertical-align: middle;\n",
       "    }\n",
       "\n",
       "    .dataframe tbody tr th {\n",
       "        vertical-align: top;\n",
       "    }\n",
       "\n",
       "    .dataframe thead th {\n",
       "        text-align: right;\n",
       "    }\n",
       "</style>\n",
       "<table border=\"1\" class=\"dataframe\">\n",
       "  <thead>\n",
       "    <tr style=\"text-align: right;\">\n",
       "      <th></th>\n",
       "      <th>danceability</th>\n",
       "      <th>energy</th>\n",
       "      <th>key</th>\n",
       "      <th>loudness</th>\n",
       "      <th>mode</th>\n",
       "      <th>speechiness</th>\n",
       "      <th>acousticness</th>\n",
       "      <th>instrumentalness</th>\n",
       "      <th>liveness</th>\n",
       "      <th>valence</th>\n",
       "      <th>tempo</th>\n",
       "      <th>type</th>\n",
       "      <th>id</th>\n",
       "      <th>uri</th>\n",
       "      <th>track_href</th>\n",
       "      <th>analysis_url</th>\n",
       "      <th>duration_ms</th>\n",
       "      <th>time_signature</th>\n",
       "    </tr>\n",
       "  </thead>\n",
       "  <tbody>\n",
       "    <tr>\n",
       "      <th>0</th>\n",
       "      <td>0.547</td>\n",
       "      <td>0.257</td>\n",
       "      <td>0</td>\n",
       "      <td>-12.358</td>\n",
       "      <td>1</td>\n",
       "      <td>0.0252</td>\n",
       "      <td>0.9070</td>\n",
       "      <td>0.183000</td>\n",
       "      <td>0.0935</td>\n",
       "      <td>0.169</td>\n",
       "      <td>75.752</td>\n",
       "      <td>audio_features</td>\n",
       "      <td>7pKfPomDEeI4TPT6EOYjn9</td>\n",
       "      <td>spotify:track:7pKfPomDEeI4TPT6EOYjn9</td>\n",
       "      <td>https://api.spotify.com/v1/tracks/7pKfPomDEeI4...</td>\n",
       "      <td>https://api.spotify.com/v1/audio-analysis/7pKf...</td>\n",
       "      <td>187867</td>\n",
       "      <td>4</td>\n",
       "    </tr>\n",
       "    <tr>\n",
       "      <th>1</th>\n",
       "      <td>0.390</td>\n",
       "      <td>0.395</td>\n",
       "      <td>0</td>\n",
       "      <td>-9.966</td>\n",
       "      <td>0</td>\n",
       "      <td>0.0501</td>\n",
       "      <td>0.2880</td>\n",
       "      <td>0.000000</td>\n",
       "      <td>0.2070</td>\n",
       "      <td>0.247</td>\n",
       "      <td>144.320</td>\n",
       "      <td>audio_features</td>\n",
       "      <td>3z8h0TU7ReDPLIbEnYhWZb</td>\n",
       "      <td>spotify:track:3z8h0TU7ReDPLIbEnYhWZb</td>\n",
       "      <td>https://api.spotify.com/v1/tracks/3z8h0TU7ReDP...</td>\n",
       "      <td>https://api.spotify.com/v1/audio-analysis/3z8h...</td>\n",
       "      <td>354947</td>\n",
       "      <td>4</td>\n",
       "    </tr>\n",
       "    <tr>\n",
       "      <th>2</th>\n",
       "      <td>0.399</td>\n",
       "      <td>0.555</td>\n",
       "      <td>10</td>\n",
       "      <td>-10.156</td>\n",
       "      <td>1</td>\n",
       "      <td>0.0259</td>\n",
       "      <td>0.0275</td>\n",
       "      <td>0.000013</td>\n",
       "      <td>0.0928</td>\n",
       "      <td>0.663</td>\n",
       "      <td>145.164</td>\n",
       "      <td>audio_features</td>\n",
       "      <td>3m7V717IKZqZLW5qUIOxdD</td>\n",
       "      <td>spotify:track:3m7V717IKZqZLW5qUIOxdD</td>\n",
       "      <td>https://api.spotify.com/v1/tracks/3m7V717IKZqZ...</td>\n",
       "      <td>https://api.spotify.com/v1/audio-analysis/3m7V...</td>\n",
       "      <td>431333</td>\n",
       "      <td>4</td>\n",
       "    </tr>\n",
       "    <tr>\n",
       "      <th>3</th>\n",
       "      <td>0.920</td>\n",
       "      <td>0.654</td>\n",
       "      <td>11</td>\n",
       "      <td>-3.051</td>\n",
       "      <td>0</td>\n",
       "      <td>0.0401</td>\n",
       "      <td>0.0236</td>\n",
       "      <td>0.015300</td>\n",
       "      <td>0.0360</td>\n",
       "      <td>0.847</td>\n",
       "      <td>117.046</td>\n",
       "      <td>audio_features</td>\n",
       "      <td>5ChkMS8OtdzJeqyybCc9R5</td>\n",
       "      <td>spotify:track:5ChkMS8OtdzJeqyybCc9R5</td>\n",
       "      <td>https://api.spotify.com/v1/tracks/5ChkMS8OtdzJ...</td>\n",
       "      <td>https://api.spotify.com/v1/audio-analysis/5Chk...</td>\n",
       "      <td>293827</td>\n",
       "      <td>4</td>\n",
       "    </tr>\n",
       "    <tr>\n",
       "      <th>4</th>\n",
       "      <td>0.723</td>\n",
       "      <td>0.863</td>\n",
       "      <td>2</td>\n",
       "      <td>-7.890</td>\n",
       "      <td>1</td>\n",
       "      <td>0.0338</td>\n",
       "      <td>0.0383</td>\n",
       "      <td>0.031700</td>\n",
       "      <td>0.1280</td>\n",
       "      <td>0.931</td>\n",
       "      <td>136.302</td>\n",
       "      <td>audio_features</td>\n",
       "      <td>2PzU4IB8Dr6mxV3lHuaG34</td>\n",
       "      <td>spotify:track:2PzU4IB8Dr6mxV3lHuaG34</td>\n",
       "      <td>https://api.spotify.com/v1/tracks/2PzU4IB8Dr6m...</td>\n",
       "      <td>https://api.spotify.com/v1/audio-analysis/2PzU...</td>\n",
       "      <td>222813</td>\n",
       "      <td>4</td>\n",
       "    </tr>\n",
       "  </tbody>\n",
       "</table>\n",
       "</div>"
      ],
      "text/plain": [
       "   danceability  energy  key  loudness  mode  speechiness  acousticness  \\\n",
       "0         0.547   0.257    0   -12.358     1       0.0252        0.9070   \n",
       "1         0.390   0.395    0    -9.966     0       0.0501        0.2880   \n",
       "2         0.399   0.555   10   -10.156     1       0.0259        0.0275   \n",
       "3         0.920   0.654   11    -3.051     0       0.0401        0.0236   \n",
       "4         0.723   0.863    2    -7.890     1       0.0338        0.0383   \n",
       "\n",
       "   instrumentalness  liveness  valence    tempo            type  \\\n",
       "0          0.183000    0.0935    0.169   75.752  audio_features   \n",
       "1          0.000000    0.2070    0.247  144.320  audio_features   \n",
       "2          0.000013    0.0928    0.663  145.164  audio_features   \n",
       "3          0.015300    0.0360    0.847  117.046  audio_features   \n",
       "4          0.031700    0.1280    0.931  136.302  audio_features   \n",
       "\n",
       "                       id                                   uri  \\\n",
       "0  7pKfPomDEeI4TPT6EOYjn9  spotify:track:7pKfPomDEeI4TPT6EOYjn9   \n",
       "1  3z8h0TU7ReDPLIbEnYhWZb  spotify:track:3z8h0TU7ReDPLIbEnYhWZb   \n",
       "2  3m7V717IKZqZLW5qUIOxdD  spotify:track:3m7V717IKZqZLW5qUIOxdD   \n",
       "3  5ChkMS8OtdzJeqyybCc9R5  spotify:track:5ChkMS8OtdzJeqyybCc9R5   \n",
       "4  2PzU4IB8Dr6mxV3lHuaG34  spotify:track:2PzU4IB8Dr6mxV3lHuaG34   \n",
       "\n",
       "                                          track_href  \\\n",
       "0  https://api.spotify.com/v1/tracks/7pKfPomDEeI4...   \n",
       "1  https://api.spotify.com/v1/tracks/3z8h0TU7ReDP...   \n",
       "2  https://api.spotify.com/v1/tracks/3m7V717IKZqZ...   \n",
       "3  https://api.spotify.com/v1/tracks/5ChkMS8OtdzJ...   \n",
       "4  https://api.spotify.com/v1/tracks/2PzU4IB8Dr6m...   \n",
       "\n",
       "                                        analysis_url  duration_ms  \\\n",
       "0  https://api.spotify.com/v1/audio-analysis/7pKf...       187867   \n",
       "1  https://api.spotify.com/v1/audio-analysis/3z8h...       354947   \n",
       "2  https://api.spotify.com/v1/audio-analysis/3m7V...       431333   \n",
       "3  https://api.spotify.com/v1/audio-analysis/5Chk...       293827   \n",
       "4  https://api.spotify.com/v1/audio-analysis/2PzU...       222813   \n",
       "\n",
       "   time_signature  \n",
       "0               4  \n",
       "1               4  \n",
       "2               4  \n",
       "3               4  \n",
       "4               4  "
      ]
     },
     "execution_count": 25,
     "metadata": {},
     "output_type": "execute_result"
    }
   ],
   "source": [
    "df_testfeat.head()"
   ]
  },
  {
   "cell_type": "code",
   "execution_count": 27,
   "id": "016051e1-839e-46c1-a3a5-a5e2d8fbcb21",
   "metadata": {},
   "outputs": [],
   "source": [
    "df_testfeat.to_csv(\"spotifyfeatures2.csv\")"
   ]
  }
 ],
 "metadata": {
  "kernelspec": {
   "display_name": "Python 3 (ipykernel)",
   "language": "python",
   "name": "python3"
  },
  "language_info": {
   "codemirror_mode": {
    "name": "ipython",
    "version": 3
   },
   "file_extension": ".py",
   "mimetype": "text/x-python",
   "name": "python",
   "nbconvert_exporter": "python",
   "pygments_lexer": "ipython3",
   "version": "3.11.7"
  }
 },
 "nbformat": 4,
 "nbformat_minor": 5
}
